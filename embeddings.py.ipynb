{
 "cells": [
  {
   "cell_type": "code",
   "execution_count": 1,
   "id": "d21e1d3e-d965-4655-9f64-b2ed88bdedff",
   "metadata": {},
   "outputs": [],
   "source": [
    "from datasets import load_dataset\n",
    "import pandas as pd"
   ]
  },
  {
   "cell_type": "code",
   "execution_count": 10,
   "id": "1edff7d6-f590-4bff-9163-a4bf398eb0b5",
   "metadata": {},
   "outputs": [],
   "source": [
    "# Using glue qqp dataset\n",
    "train_dataset = load_dataset(\"glue\", \"qqp\", split=\"train\")\n",
    "test_dataset = load_dataset(\"glue\", \"qqp\", split='test')\n",
    "validation_dataset = load_dataset(\"glue\", \"qqp\", split='validation')\n",
    "train_df = train_dataset.to_pandas()\n",
    "test_df = test_dataset.to_pandas()\n",
    "valid_df = validation_dataset.to_pandas()\n",
    "\n",
    "# Saving data\n",
    "df.to_csv(\"quora_qqp_train.csv\", index=False)\n",
    "df.to_csv(\"quora_qqp_test.csv\", index=False)\n",
    "df.to_csv(\"quora_qqp_validation.csv\", index=False)"
   ]
  },
  {
   "cell_type": "code",
   "execution_count": 11,
   "id": "1d161a12-7930-43dd-8385-9336ef7660f4",
   "metadata": {},
   "outputs": [],
   "source": [
    "small_train_ds = load_dataset(\"glue\", \"qqp\", split=\"train\").select(range(1000))\n",
    "small_train_df = small_train_ds.to_pandas()"
   ]
  },
  {
   "cell_type": "code",
   "execution_count": 47,
   "id": "695e69fe-1e8a-439b-8f5f-6476591f2c13",
   "metadata": {},
   "outputs": [
    {
     "data": {
      "text/plain": [
       "{'question1': 'How is the life of a math student? Could you describe your own experiences?',\n",
       " 'question2': 'Which level of prepration is enough for the exam jlpt5?',\n",
       " 'label': 0}"
      ]
     },
     "execution_count": 47,
     "metadata": {},
     "output_type": "execute_result"
    }
   ],
   "source": [
    "small_train_ds = small_train_ds.remove_columns(\"idx\")\n",
    "small_train_ds[0]"
   ]
  },
  {
   "cell_type": "code",
   "execution_count": 13,
   "id": "ef6ad062-d8c2-4e50-b9c2-683776b7e68f",
   "metadata": {},
   "outputs": [],
   "source": [
    "# Text Preprocessing\n",
    "import re\n",
    "\n",
    "def normalize_spaces(text: str) -> str:\n",
    "    # strip ends + collapse multiple spaces\n",
    "    return re.sub(r\"\\s+\", \" \", text.strip())\n",
    "\n",
    "for df in (small_train_df, valid_df, test_df):\n",
    "    # drop rows where q1 or q2 is missing\n",
    "    df.dropna(subset=['question1', 'question2'], inplace=True)\n",
    "\n",
    "    # normalize whitespace; keep punctuation/casing\n",
    "    df['question1'] = df['question1'].astype(str).map(normalize_spaces)\n",
    "    df['question2'] = df['question2'].astype(str).map(normalize_spaces)\n",
    "\n",
    "    # drop rows that became empty after stripping\n",
    "    df = df[(df['question1'] != \"\") & (df['question2'] != \"\")]\n",
    "\n",
    "# save\n",
    "small_train_df.to_csv(\"quora_qqp_small_train_clean.csv\", index=False)\n",
    "valid_df.to_csv(\"quora_qqp_valid_clean.csv\", index=False)\n",
    "test_df.to_csv(\"quora_qqp_test_clean.csv\", index=False)"
   ]
  },
  {
   "cell_type": "code",
   "execution_count": 16,
   "id": "7ad80c5f-64ec-424f-a11b-5900b86d80d0",
   "metadata": {},
   "outputs": [],
   "source": [
    "small_train_df = small_train_df.drop(columns=[\"idx\"])\n",
    "valid_df = valid_df.drop(columns=[\"idx\"])\n",
    "test_df = test_df.drop(columns=['idx'])"
   ]
  },
  {
   "cell_type": "code",
   "execution_count": 17,
   "id": "910ccf24-954c-4dad-be60-71a6ebc6c1eb",
   "metadata": {},
   "outputs": [
    {
     "name": "stdout",
     "output_type": "stream",
     "text": [
      "(1000, 3) (40430, 3) (390965, 3)\n"
     ]
    }
   ],
   "source": [
    "print(small_train_df.shape, valid_df.shape, test_df.shape)"
   ]
  },
  {
   "cell_type": "code",
   "execution_count": 18,
   "id": "64dee79b-41af-4cd6-8a7c-e58da3a65ea6",
   "metadata": {},
   "outputs": [
    {
     "name": "stdout",
     "output_type": "stream",
     "text": [
      "WARNING:tensorflow:From C:\\Users\\Deepam Shah\\AppData\\Local\\Programs\\Python\\Python312\\Lib\\site-packages\\tf_keras\\src\\losses.py:2976: The name tf.losses.sparse_softmax_cross_entropy is deprecated. Please use tf.compat.v1.losses.sparse_softmax_cross_entropy instead.\n",
      "\n"
     ]
    }
   ],
   "source": [
    "# 2. load the model SBERT\n",
    "from sentence_transformers import SentenceTransformer\n",
    "import torch\n",
    "\n",
    "model_name = \"sentence-transformers/all-MiniLM-L6-v2\"\n",
    "model = SentenceTransformer(model_name)\n",
    "\n",
    "# setup-device agnostic code\n",
    "device = \"cuda\" if torch.cuda.is_available() else \"cpu\"\n",
    "model = model.to(device)"
   ]
  },
  {
   "cell_type": "code",
   "execution_count": 21,
   "id": "8d2ce46b-132c-4014-8f3c-0ea315e22807",
   "metadata": {
    "scrolled": true
   },
   "outputs": [
    {
     "name": "stdout",
     "output_type": "stream",
     "text": [
      "Embedding shape: torch.Size([3, 384])\n",
      "Example vector: tensor([-0.0158,  0.0149,  0.0091,  0.0313, -0.0217], device='cuda:0')\n"
     ]
    }
   ],
   "source": [
    "# example to encode some sentences\n",
    "sentences = [\n",
    "    \"What is artificial intelligence?\",\n",
    "    \"Explain the concept of AI in simple terms.\",\n",
    "    \"How to make pizza at home?\"\n",
    "]\n",
    "\n",
    "embeddings = model.encode(sentences, convert_to_tensor=True)\n",
    "print(\"Embedding shape:\", embeddings.shape)\n",
    "print(\"Example vector:\", embeddings[0][:5])"
   ]
  },
  {
   "cell_type": "code",
   "execution_count": null,
   "id": "df53c167-382f-4b85-bc7b-97bf788da8a5",
   "metadata": {},
   "outputs": [],
   "source": []
  },
  {
   "cell_type": "code",
   "execution_count": 28,
   "id": "ffe82a21-58ba-4328-b36f-ec4024928c1d",
   "metadata": {},
   "outputs": [
    {
     "data": {
      "application/vnd.jupyter.widget-view+json": {
       "model_id": "b5089a10a9bf4701b4796a77deaae25d",
       "version_major": 2,
       "version_minor": 0
      },
      "text/plain": [
       "Batches:   0%|          | 0/32 [00:00<?, ?it/s]"
      ]
     },
     "metadata": {},
     "output_type": "display_data"
    },
    {
     "data": {
      "application/vnd.jupyter.widget-view+json": {
       "model_id": "565da114c5484bf3a184a08ea242d220",
       "version_major": 2,
       "version_minor": 0
      },
      "text/plain": [
       "Batches:   0%|          | 0/32 [00:00<?, ?it/s]"
      ]
     },
     "metadata": {},
     "output_type": "display_data"
    },
    {
     "name": "stdout",
     "output_type": "stream",
     "text": [
      "Saved: qqp_train_embeddings.npz\n"
     ]
    },
    {
     "data": {
      "application/vnd.jupyter.widget-view+json": {
       "model_id": "94180f53b33e41b8b8f93ee1ca9c0713",
       "version_major": 2,
       "version_minor": 0
      },
      "text/plain": [
       "Batches:   0%|          | 0/1264 [00:00<?, ?it/s]"
      ]
     },
     "metadata": {},
     "output_type": "display_data"
    },
    {
     "data": {
      "application/vnd.jupyter.widget-view+json": {
       "model_id": "e37936bed6cf4d85b786b7c0d766d6b6",
       "version_major": 2,
       "version_minor": 0
      },
      "text/plain": [
       "Batches:   0%|          | 0/1264 [00:00<?, ?it/s]"
      ]
     },
     "metadata": {},
     "output_type": "display_data"
    },
    {
     "name": "stdout",
     "output_type": "stream",
     "text": [
      "Saved: qqp_val_embeddings.npz\n"
     ]
    },
    {
     "data": {
      "application/vnd.jupyter.widget-view+json": {
       "model_id": "cedefd4e2ce949dd851612b2984b3dbc",
       "version_major": 2,
       "version_minor": 0
      },
      "text/plain": [
       "Batches:   0%|          | 0/12218 [00:00<?, ?it/s]"
      ]
     },
     "metadata": {},
     "output_type": "display_data"
    },
    {
     "data": {
      "application/vnd.jupyter.widget-view+json": {
       "model_id": "dd23b9debc1b41ccba81e186a93f4d39",
       "version_major": 2,
       "version_minor": 0
      },
      "text/plain": [
       "Batches:   0%|          | 0/12218 [00:00<?, ?it/s]"
      ]
     },
     "metadata": {},
     "output_type": "display_data"
    },
    {
     "name": "stdout",
     "output_type": "stream",
     "text": [
      "Saved: qqp_test_embeddings.npz\n"
     ]
    }
   ],
   "source": [
    "# 3. creating embedding vectors of the data\n",
    "import numpy as np\n",
    "\n",
    "def encode_texts(texts, batch_size=32):\n",
    "    \"\"\"\n",
    "    - SBERT does mean pooling by default.\n",
    "    - normalize the embedding=True makes vectors L2-normalized.\n",
    "    - returns np.darray of shape (N, 384)\n",
    "    \"\"\"\n",
    "    emb = model.encode(\n",
    "        texts,\n",
    "        batch_size=batch_size,\n",
    "        normalize_embeddings=True,\n",
    "        convert_to_tensor=True,\n",
    "        show_progress_bar=True\n",
    "    )\n",
    "\n",
    "    return emb.cpu().numpy()\n",
    "\n",
    "# ----- Train -------\n",
    "E1_train = encode_texts(small_train_df['question1'].tolist())\n",
    "E2_train = encode_texts(small_train_df['question2'].tolist())\n",
    "y_train = small_train_df['label'].to_numpy(dtype=np.int64)\n",
    "\n",
    "np.savez_compressed(\n",
    "    \"qqp_train_embeddings.npz\",\n",
    "    E1=E1_train, E2=E2_train, y=y_train\n",
    ")\n",
    "\n",
    "print(\"Saved: qqp_train_embeddings.npz\")\n",
    "\n",
    "# -------- Validation ---------\n",
    "E1_valid = encode_texts(valid_df['question1'].tolist())\n",
    "E2_valid = encode_texts(valid_df['question2'].tolist())\n",
    "y_val = valid_df['label'].to_numpy()\n",
    "\n",
    "np.savez_compressed(\n",
    "    \"qqp_valid_embeddings.npz\",\n",
    "    E1=E1_valid, E2=E2_valid, y=y_train\n",
    ")\n",
    "\n",
    "print(\"Saved: qqp_val_embeddings.npz\")\n",
    "\n",
    "# -------- Test (no labels) ----------\n",
    "E1_test = encode_texts(test_df['question1'].tolist())\n",
    "E2_test = encode_texts(test_df['question2'].tolist())\n",
    "\n",
    "np.savez_compressed(\n",
    "    \"qqp_test_embeddings.npz\"\n",
    ")\n",
    "\n",
    "print(\"Saved: qqp_test_embeddings.npz\")"
   ]
  },
  {
   "cell_type": "code",
   "execution_count": null,
   "id": "8a617ddd-cbb1-4df9-b3c1-1e1c80a4902e",
   "metadata": {},
   "outputs": [],
   "source": []
  },
  {
   "cell_type": "markdown",
   "id": "322b2922-6619-4a45-b785-22a71455dd4d",
   "metadata": {},
   "source": [
    "### 🔍 Step 4 — What does .reshape(1, -1) mean?\n",
    "\n",
    "- reshape changes the shape of an array.\n",
    "- 1 → means 1 row (because we’re comparing one vector)\n",
    "- -1 → means “automatically figure out how many columns” (i.e. embedding length)\n",
    "- \n",
    "```yaml\n",
    "Original shape: (384,)\n",
    "After reshape:  (1, 384)\n",
    "```\n",
    "\n",
    "the result(cosine-similarity) looks like this:\n",
    "```python\n",
    "[[0.97]]\n",
    "```\n",
    "\n",
    "- That’s a 1×1 matrix (shape (1,1)).\n",
    "- So we extract the value using:\n",
    "```python\n",
    "[0][0]\n",
    "```\n",
    "\n",
    "Now it’s just:\n",
    "```python\n",
    "0.97\n",
    "```"
   ]
  },
  {
   "cell_type": "code",
   "execution_count": 33,
   "id": "6ca24dc7-cf3b-4eb0-8786-da6d38cf3af9",
   "metadata": {},
   "outputs": [
    {
     "name": "stdout",
     "output_type": "stream",
     "text": [
      "   cosine_similarity  label\n",
      "0           0.740127      0\n",
      "1           0.458366      0\n",
      "2           0.877860      1\n",
      "3           0.221908      0\n",
      "4           0.954117      0\n",
      "5           0.877590      1\n",
      "6           0.599299      1\n",
      "7           0.879703      1\n",
      "8           0.979464      0\n",
      "9           0.009661      0\n"
     ]
    }
   ],
   "source": [
    "# 4. compute cosine similarity\n",
    "import numpy as np\n",
    "from sklearn.metrics.pairwise import cosine_similarity\n",
    "\n",
    "# compute cosine_similarity of val embeddings before pretraining\n",
    "similarities = np.array([\n",
    "    cosine_similarity(E1_valid[i].reshape(1,-1), E2_valid[i].reshape(1,-1))[0][0]\n",
    "    for i in range(len(E1_valid))\n",
    "])\n",
    "\n",
    "# Attach to a dataframe for inspection\n",
    "import pandas as pd\n",
    "df_results = pd.DataFrame({\n",
    "    \"cosine_similarity\": similarities,\n",
    "    \"label\": y_val\n",
    "})\n",
    "\n",
    "print(df_results.head(10))"
   ]
  },
  {
   "cell_type": "code",
   "execution_count": 39,
   "id": "ec8a6c7e-1e45-4f5a-824f-ee7433643fae",
   "metadata": {},
   "outputs": [
    {
     "name": "stdout",
     "output_type": "stream",
     "text": [
      "Pearson: 0.54986758993552 Spearman: 0.6193098892675138\n"
     ]
    }
   ],
   "source": [
    "from scipy.stats import pearsonr, spearmanr\n",
    "\n",
    "# sims = np.sum(E1_valid*E2_valid, axis=1)\n",
    "pearson, _ = pearsonr(similarities, y_val)\n",
    "spearman, _ = spearmanr(similarities, y_val)\n",
    "print(\"Pearson:\", pearson, \"Spearman:\", spearman)"
   ]
  },
  {
   "cell_type": "code",
   "execution_count": null,
   "id": "faed42fa-2cc8-4c97-a77b-5038f54c57e5",
   "metadata": {},
   "outputs": [],
   "source": []
  },
  {
   "cell_type": "markdown",
   "id": "4c723f3f-ccaf-44f1-a853-3e7f5ee92aac",
   "metadata": {},
   "source": [
    "## Note:- Shortcut to calculate cosine similarity in one go, without actually generating embedding by own"
   ]
  },
  {
   "cell_type": "code",
   "execution_count": 36,
   "id": "b6c7b6ce-aa61-4ae5-9c4e-fc8dcb634e0f",
   "metadata": {},
   "outputs": [
    {
     "data": {
      "text/plain": [
       "{'pearson_cosine': 0.5498675890295038, 'spearman_cosine': 0.6193099090398987}"
      ]
     },
     "execution_count": 36,
     "metadata": {},
     "output_type": "execute_result"
    }
   ],
   "source": [
    "from sentence_transformers import SentenceTransformer\n",
    "from sentence_transformers.evaluation import EmbeddingSimilarityEvaluator\n",
    "import torch\n",
    "\n",
    "model_name = \"sentence-transformers/all-MiniLM-L6-v2\"\n",
    "model = SentenceTransformer(model_name)\n",
    "model = model.to(device)\n",
    "\n",
    "# Using STSB evaluator\n",
    "evaluator = EmbeddingSimilarityEvaluator(\n",
    "    sentences1 = valid_df['question1'],\n",
    "    sentences2 = valid_df['question2'],\n",
    "    scores = [score/5 for score in valid_df['label']],\n",
    "    main_similarity=\"cosine\",\n",
    ")\n",
    "\n",
    "evaluator(model)"
   ]
  },
  {
   "cell_type": "code",
   "execution_count": 40,
   "id": "1aa2bb1f-d045-4a33-9a7a-84336b694ad9",
   "metadata": {},
   "outputs": [],
   "source": [
    "# 5. Fine-tune the model on our dataset.\n",
    "from sentence_transformers import losses\n",
    "\n",
    "# Define the loss function. In Softmax loss, we will also need to explicilty set the number of labels\n",
    "train_loss = losses.SoftmaxLoss(\n",
    "    model=model,\n",
    "    sentence_embedding_dimension=model.get_sentence_embedding_dimension(),\n",
    "    num_labels=2\n",
    ")"
   ]
  },
  {
   "cell_type": "code",
   "execution_count": 54,
   "id": "e501139f-1c50-4e1b-bb78-aabf79c07663",
   "metadata": {},
   "outputs": [],
   "source": [
    "from sentence_transformers.training_args import SentenceTransformerTrainingArguments\n",
    "from sentence_transformers.trainer import SentenceTransformerTrainer\n",
    "\n",
    "# increasing our training dataset\n",
    "med_train_dataset = train_dataset.select(range(50000)).remove_columns(\"idx\")\n",
    "\n",
    "# Define Training arguments\n",
    "args = SentenceTransformerTrainingArguments(\n",
    "    output_dir = \"base_embedding_model\",\n",
    "    num_train_epochs=1,\n",
    "    per_device_train_batch_size=32,\n",
    "    per_device_eval_batch_size=32,\n",
    "    warmup_steps=100,\n",
    "    fp16=True,\n",
    "    eval_steps=100,\n",
    "    logging_steps=100\n",
    ")\n",
    "\n",
    "# Train the embedding model\n",
    "trainer = SentenceTransformerTrainer(\n",
    "    model=model,\n",
    "    args=args,\n",
    "    train_dataset=med_train_dataset, # it will throw error if we pass dataframe here.\n",
    "    loss=train_loss,\n",
    "    evaluator=evaluator\n",
    ")"
   ]
  },
  {
   "cell_type": "code",
   "execution_count": 55,
   "id": "1d97965f-b461-4bb9-8f3c-726055c93be5",
   "metadata": {},
   "outputs": [
    {
     "name": "stderr",
     "output_type": "stream",
     "text": [
      "2025/10/29 17:21:05 ERROR mlflow.utils.async_logging.async_logging_queue: Run Id 20954e9018d14349b174dce2a8744773: Failed to log run data: Exception: [Errno 2] No such file or directory: 'C:\\\\Users\\\\Deepam Shah\\\\Jupyter Notebook Python-20250329T150948Z-001\\\\Jupyter Notebook Python\\\\Artificial Intelligence\\\\Transformers\\\\LLM-Lab-Notebook\\\\Day-1-Semantic Similarity Engine\\\\mlruns\\\\0\\\\20954e9018d14349b174dce2a8744773\\\\params\\\\restore_callback_states_from_checkpoint'\n"
     ]
    },
    {
     "data": {
      "text/html": [
       "\n",
       "    <div>\n",
       "      \n",
       "      <progress value='1563' max='1563' style='width:300px; height:20px; vertical-align: middle;'></progress>\n",
       "      [1563/1563 22:52, Epoch 1/1]\n",
       "    </div>\n",
       "    <table border=\"1\" class=\"dataframe\">\n",
       "  <thead>\n",
       " <tr style=\"text-align: left;\">\n",
       "      <th>Step</th>\n",
       "      <th>Training Loss</th>\n",
       "    </tr>\n",
       "  </thead>\n",
       "  <tbody>\n",
       "    <tr>\n",
       "      <td>100</td>\n",
       "      <td>0.653900</td>\n",
       "    </tr>\n",
       "    <tr>\n",
       "      <td>200</td>\n",
       "      <td>0.604600</td>\n",
       "    </tr>\n",
       "    <tr>\n",
       "      <td>300</td>\n",
       "      <td>0.583400</td>\n",
       "    </tr>\n",
       "    <tr>\n",
       "      <td>400</td>\n",
       "      <td>0.556800</td>\n",
       "    </tr>\n",
       "    <tr>\n",
       "      <td>500</td>\n",
       "      <td>0.545500</td>\n",
       "    </tr>\n",
       "    <tr>\n",
       "      <td>600</td>\n",
       "      <td>0.536400</td>\n",
       "    </tr>\n",
       "    <tr>\n",
       "      <td>700</td>\n",
       "      <td>0.527500</td>\n",
       "    </tr>\n",
       "    <tr>\n",
       "      <td>800</td>\n",
       "      <td>0.525300</td>\n",
       "    </tr>\n",
       "    <tr>\n",
       "      <td>900</td>\n",
       "      <td>0.518100</td>\n",
       "    </tr>\n",
       "    <tr>\n",
       "      <td>1000</td>\n",
       "      <td>0.509800</td>\n",
       "    </tr>\n",
       "    <tr>\n",
       "      <td>1100</td>\n",
       "      <td>0.503200</td>\n",
       "    </tr>\n",
       "    <tr>\n",
       "      <td>1200</td>\n",
       "      <td>0.507500</td>\n",
       "    </tr>\n",
       "    <tr>\n",
       "      <td>1300</td>\n",
       "      <td>0.503600</td>\n",
       "    </tr>\n",
       "    <tr>\n",
       "      <td>1400</td>\n",
       "      <td>0.482900</td>\n",
       "    </tr>\n",
       "    <tr>\n",
       "      <td>1500</td>\n",
       "      <td>0.498200</td>\n",
       "    </tr>\n",
       "  </tbody>\n",
       "</table><p>"
      ],
      "text/plain": [
       "<IPython.core.display.HTML object>"
      ]
     },
     "metadata": {},
     "output_type": "display_data"
    },
    {
     "data": {
      "text/plain": [
       "TrainOutput(global_step=1563, training_loss=0.5353433873816629, metrics={'train_runtime': 1371.7838, 'train_samples_per_second': 36.449, 'train_steps_per_second': 1.139, 'total_flos': 0.0, 'train_loss': 0.5353433873816629, 'epoch': 1.0})"
      ]
     },
     "execution_count": 55,
     "metadata": {},
     "output_type": "execute_result"
    }
   ],
   "source": [
    "trainer.train()"
   ]
  },
  {
   "cell_type": "code",
   "execution_count": 56,
   "id": "67db2b48-98cf-4b69-84b2-06f5d30f02b5",
   "metadata": {},
   "outputs": [
    {
     "data": {
      "text/plain": [
       "{'pearson_cosine': 0.45056921511992803, 'spearman_cosine': 0.5624523957687217}"
      ]
     },
     "execution_count": 56,
     "metadata": {},
     "output_type": "execute_result"
    }
   ],
   "source": [
    "evaluator(model)"
   ]
  },
  {
   "cell_type": "markdown",
   "id": "c3061932-8661-4ae0-9b3a-9c27b603ed9a",
   "metadata": {},
   "source": [
    "# 😒😂😂😂😂"
   ]
  },
  {
   "cell_type": "code",
   "execution_count": 57,
   "id": "62feeecb-0596-4ea5-8cec-d0f3b4009032",
   "metadata": {},
   "outputs": [],
   "source": [
    "# Changing the loss function and training it for more epochs with high dataset size.\n",
    "train_loss = losses.CosineSimilarityLoss(model=model)\n",
    "\n",
    "huge_train_data = train_dataset.select(range(100000)).remove_columns(\"idx\")\n",
    "args = SentenceTransformerTrainingArguments(\n",
    "    output_dir=\"base_embedding_model_huge\",\n",
    "    num_train_epochs=5,\n",
    "    per_device_train_batch_size=32,\n",
    "    per_device_eval_batch_size=32,\n",
    "    fp16=True,\n",
    "    warmup_steps=100,\n",
    "    logging_steps=100,\n",
    "    eval_steps=100,\n",
    ")\n",
    "\n",
    "trainer = SentenceTransformerTrainer(\n",
    "    model=model,\n",
    "    args=args,\n",
    "    loss=train_loss,\n",
    "    train_dataset=huge_train_data,\n",
    "    evaluator=evaluator\n",
    ")"
   ]
  },
  {
   "cell_type": "code",
   "execution_count": 58,
   "id": "bc992a03-49ef-4dd5-b101-bf386839c493",
   "metadata": {
    "scrolled": true
   },
   "outputs": [
    {
     "name": "stderr",
     "output_type": "stream",
     "text": [
      "2025/10/29 19:06:44 ERROR mlflow.utils.async_logging.async_logging_queue: Run Id 60df7155dd314d14b0a96a4d6aa666b8: Failed to log run data: Exception: [Errno 2] No such file or directory: 'C:\\\\Users\\\\Deepam Shah\\\\Jupyter Notebook Python-20250329T150948Z-001\\\\Jupyter Notebook Python\\\\Artificial Intelligence\\\\Transformers\\\\LLM-Lab-Notebook\\\\Day-1-Semantic Similarity Engine\\\\mlruns\\\\0\\\\60df7155dd314d14b0a96a4d6aa666b8\\\\params\\\\restore_callback_states_from_checkpoint'\n"
     ]
    },
    {
     "data": {
      "text/html": [
       "\n",
       "    <div>\n",
       "      \n",
       "      <progress value='15625' max='15625' style='width:300px; height:20px; vertical-align: middle;'></progress>\n",
       "      [15625/15625 1:24:11, Epoch 5/5]\n",
       "    </div>\n",
       "    <table border=\"1\" class=\"dataframe\">\n",
       "  <thead>\n",
       " <tr style=\"text-align: left;\">\n",
       "      <th>Step</th>\n",
       "      <th>Training Loss</th>\n",
       "    </tr>\n",
       "  </thead>\n",
       "  <tbody>\n",
       "    <tr>\n",
       "      <td>100</td>\n",
       "      <td>0.217000</td>\n",
       "    </tr>\n",
       "    <tr>\n",
       "      <td>200</td>\n",
       "      <td>0.146500</td>\n",
       "    </tr>\n",
       "    <tr>\n",
       "      <td>300</td>\n",
       "      <td>0.133000</td>\n",
       "    </tr>\n",
       "    <tr>\n",
       "      <td>400</td>\n",
       "      <td>0.133600</td>\n",
       "    </tr>\n",
       "    <tr>\n",
       "      <td>500</td>\n",
       "      <td>0.135200</td>\n",
       "    </tr>\n",
       "    <tr>\n",
       "      <td>600</td>\n",
       "      <td>0.136700</td>\n",
       "    </tr>\n",
       "    <tr>\n",
       "      <td>700</td>\n",
       "      <td>0.130800</td>\n",
       "    </tr>\n",
       "    <tr>\n",
       "      <td>800</td>\n",
       "      <td>0.128600</td>\n",
       "    </tr>\n",
       "    <tr>\n",
       "      <td>900</td>\n",
       "      <td>0.131600</td>\n",
       "    </tr>\n",
       "    <tr>\n",
       "      <td>1000</td>\n",
       "      <td>0.127400</td>\n",
       "    </tr>\n",
       "    <tr>\n",
       "      <td>1100</td>\n",
       "      <td>0.131700</td>\n",
       "    </tr>\n",
       "    <tr>\n",
       "      <td>1200</td>\n",
       "      <td>0.124800</td>\n",
       "    </tr>\n",
       "    <tr>\n",
       "      <td>1300</td>\n",
       "      <td>0.123400</td>\n",
       "    </tr>\n",
       "    <tr>\n",
       "      <td>1400</td>\n",
       "      <td>0.126100</td>\n",
       "    </tr>\n",
       "    <tr>\n",
       "      <td>1500</td>\n",
       "      <td>0.121500</td>\n",
       "    </tr>\n",
       "    <tr>\n",
       "      <td>1600</td>\n",
       "      <td>0.120500</td>\n",
       "    </tr>\n",
       "    <tr>\n",
       "      <td>1700</td>\n",
       "      <td>0.125100</td>\n",
       "    </tr>\n",
       "    <tr>\n",
       "      <td>1800</td>\n",
       "      <td>0.119600</td>\n",
       "    </tr>\n",
       "    <tr>\n",
       "      <td>1900</td>\n",
       "      <td>0.115800</td>\n",
       "    </tr>\n",
       "    <tr>\n",
       "      <td>2000</td>\n",
       "      <td>0.125500</td>\n",
       "    </tr>\n",
       "    <tr>\n",
       "      <td>2100</td>\n",
       "      <td>0.118700</td>\n",
       "    </tr>\n",
       "    <tr>\n",
       "      <td>2200</td>\n",
       "      <td>0.122000</td>\n",
       "    </tr>\n",
       "    <tr>\n",
       "      <td>2300</td>\n",
       "      <td>0.120900</td>\n",
       "    </tr>\n",
       "    <tr>\n",
       "      <td>2400</td>\n",
       "      <td>0.117400</td>\n",
       "    </tr>\n",
       "    <tr>\n",
       "      <td>2500</td>\n",
       "      <td>0.124400</td>\n",
       "    </tr>\n",
       "    <tr>\n",
       "      <td>2600</td>\n",
       "      <td>0.118600</td>\n",
       "    </tr>\n",
       "    <tr>\n",
       "      <td>2700</td>\n",
       "      <td>0.114200</td>\n",
       "    </tr>\n",
       "    <tr>\n",
       "      <td>2800</td>\n",
       "      <td>0.121100</td>\n",
       "    </tr>\n",
       "    <tr>\n",
       "      <td>2900</td>\n",
       "      <td>0.115100</td>\n",
       "    </tr>\n",
       "    <tr>\n",
       "      <td>3000</td>\n",
       "      <td>0.121500</td>\n",
       "    </tr>\n",
       "    <tr>\n",
       "      <td>3100</td>\n",
       "      <td>0.116600</td>\n",
       "    </tr>\n",
       "    <tr>\n",
       "      <td>3200</td>\n",
       "      <td>0.102700</td>\n",
       "    </tr>\n",
       "    <tr>\n",
       "      <td>3300</td>\n",
       "      <td>0.095300</td>\n",
       "    </tr>\n",
       "    <tr>\n",
       "      <td>3400</td>\n",
       "      <td>0.099400</td>\n",
       "    </tr>\n",
       "    <tr>\n",
       "      <td>3500</td>\n",
       "      <td>0.100400</td>\n",
       "    </tr>\n",
       "    <tr>\n",
       "      <td>3600</td>\n",
       "      <td>0.099600</td>\n",
       "    </tr>\n",
       "    <tr>\n",
       "      <td>3700</td>\n",
       "      <td>0.098400</td>\n",
       "    </tr>\n",
       "    <tr>\n",
       "      <td>3800</td>\n",
       "      <td>0.101300</td>\n",
       "    </tr>\n",
       "    <tr>\n",
       "      <td>3900</td>\n",
       "      <td>0.099300</td>\n",
       "    </tr>\n",
       "    <tr>\n",
       "      <td>4000</td>\n",
       "      <td>0.097000</td>\n",
       "    </tr>\n",
       "    <tr>\n",
       "      <td>4100</td>\n",
       "      <td>0.096200</td>\n",
       "    </tr>\n",
       "    <tr>\n",
       "      <td>4200</td>\n",
       "      <td>0.103700</td>\n",
       "    </tr>\n",
       "    <tr>\n",
       "      <td>4300</td>\n",
       "      <td>0.095600</td>\n",
       "    </tr>\n",
       "    <tr>\n",
       "      <td>4400</td>\n",
       "      <td>0.100900</td>\n",
       "    </tr>\n",
       "    <tr>\n",
       "      <td>4500</td>\n",
       "      <td>0.103000</td>\n",
       "    </tr>\n",
       "    <tr>\n",
       "      <td>4600</td>\n",
       "      <td>0.097900</td>\n",
       "    </tr>\n",
       "    <tr>\n",
       "      <td>4700</td>\n",
       "      <td>0.095400</td>\n",
       "    </tr>\n",
       "    <tr>\n",
       "      <td>4800</td>\n",
       "      <td>0.098500</td>\n",
       "    </tr>\n",
       "    <tr>\n",
       "      <td>4900</td>\n",
       "      <td>0.093200</td>\n",
       "    </tr>\n",
       "    <tr>\n",
       "      <td>5000</td>\n",
       "      <td>0.093900</td>\n",
       "    </tr>\n",
       "    <tr>\n",
       "      <td>5100</td>\n",
       "      <td>0.103600</td>\n",
       "    </tr>\n",
       "    <tr>\n",
       "      <td>5200</td>\n",
       "      <td>0.100500</td>\n",
       "    </tr>\n",
       "    <tr>\n",
       "      <td>5300</td>\n",
       "      <td>0.096900</td>\n",
       "    </tr>\n",
       "    <tr>\n",
       "      <td>5400</td>\n",
       "      <td>0.102900</td>\n",
       "    </tr>\n",
       "    <tr>\n",
       "      <td>5500</td>\n",
       "      <td>0.098700</td>\n",
       "    </tr>\n",
       "    <tr>\n",
       "      <td>5600</td>\n",
       "      <td>0.101400</td>\n",
       "    </tr>\n",
       "    <tr>\n",
       "      <td>5700</td>\n",
       "      <td>0.096700</td>\n",
       "    </tr>\n",
       "    <tr>\n",
       "      <td>5800</td>\n",
       "      <td>0.100300</td>\n",
       "    </tr>\n",
       "    <tr>\n",
       "      <td>5900</td>\n",
       "      <td>0.095600</td>\n",
       "    </tr>\n",
       "    <tr>\n",
       "      <td>6000</td>\n",
       "      <td>0.095900</td>\n",
       "    </tr>\n",
       "    <tr>\n",
       "      <td>6100</td>\n",
       "      <td>0.091600</td>\n",
       "    </tr>\n",
       "    <tr>\n",
       "      <td>6200</td>\n",
       "      <td>0.101100</td>\n",
       "    </tr>\n",
       "    <tr>\n",
       "      <td>6300</td>\n",
       "      <td>0.088900</td>\n",
       "    </tr>\n",
       "    <tr>\n",
       "      <td>6400</td>\n",
       "      <td>0.085500</td>\n",
       "    </tr>\n",
       "    <tr>\n",
       "      <td>6500</td>\n",
       "      <td>0.082200</td>\n",
       "    </tr>\n",
       "    <tr>\n",
       "      <td>6600</td>\n",
       "      <td>0.077200</td>\n",
       "    </tr>\n",
       "    <tr>\n",
       "      <td>6700</td>\n",
       "      <td>0.085300</td>\n",
       "    </tr>\n",
       "    <tr>\n",
       "      <td>6800</td>\n",
       "      <td>0.083300</td>\n",
       "    </tr>\n",
       "    <tr>\n",
       "      <td>6900</td>\n",
       "      <td>0.077400</td>\n",
       "    </tr>\n",
       "    <tr>\n",
       "      <td>7000</td>\n",
       "      <td>0.076800</td>\n",
       "    </tr>\n",
       "    <tr>\n",
       "      <td>7100</td>\n",
       "      <td>0.083600</td>\n",
       "    </tr>\n",
       "    <tr>\n",
       "      <td>7200</td>\n",
       "      <td>0.084200</td>\n",
       "    </tr>\n",
       "    <tr>\n",
       "      <td>7300</td>\n",
       "      <td>0.083000</td>\n",
       "    </tr>\n",
       "    <tr>\n",
       "      <td>7400</td>\n",
       "      <td>0.082400</td>\n",
       "    </tr>\n",
       "    <tr>\n",
       "      <td>7500</td>\n",
       "      <td>0.079100</td>\n",
       "    </tr>\n",
       "    <tr>\n",
       "      <td>7600</td>\n",
       "      <td>0.079300</td>\n",
       "    </tr>\n",
       "    <tr>\n",
       "      <td>7700</td>\n",
       "      <td>0.084000</td>\n",
       "    </tr>\n",
       "    <tr>\n",
       "      <td>7800</td>\n",
       "      <td>0.082000</td>\n",
       "    </tr>\n",
       "    <tr>\n",
       "      <td>7900</td>\n",
       "      <td>0.074400</td>\n",
       "    </tr>\n",
       "    <tr>\n",
       "      <td>8000</td>\n",
       "      <td>0.081300</td>\n",
       "    </tr>\n",
       "    <tr>\n",
       "      <td>8100</td>\n",
       "      <td>0.080200</td>\n",
       "    </tr>\n",
       "    <tr>\n",
       "      <td>8200</td>\n",
       "      <td>0.075400</td>\n",
       "    </tr>\n",
       "    <tr>\n",
       "      <td>8300</td>\n",
       "      <td>0.076800</td>\n",
       "    </tr>\n",
       "    <tr>\n",
       "      <td>8400</td>\n",
       "      <td>0.083100</td>\n",
       "    </tr>\n",
       "    <tr>\n",
       "      <td>8500</td>\n",
       "      <td>0.080700</td>\n",
       "    </tr>\n",
       "    <tr>\n",
       "      <td>8600</td>\n",
       "      <td>0.082500</td>\n",
       "    </tr>\n",
       "    <tr>\n",
       "      <td>8700</td>\n",
       "      <td>0.078100</td>\n",
       "    </tr>\n",
       "    <tr>\n",
       "      <td>8800</td>\n",
       "      <td>0.074600</td>\n",
       "    </tr>\n",
       "    <tr>\n",
       "      <td>8900</td>\n",
       "      <td>0.077200</td>\n",
       "    </tr>\n",
       "    <tr>\n",
       "      <td>9000</td>\n",
       "      <td>0.078500</td>\n",
       "    </tr>\n",
       "    <tr>\n",
       "      <td>9100</td>\n",
       "      <td>0.080900</td>\n",
       "    </tr>\n",
       "    <tr>\n",
       "      <td>9200</td>\n",
       "      <td>0.081400</td>\n",
       "    </tr>\n",
       "    <tr>\n",
       "      <td>9300</td>\n",
       "      <td>0.086000</td>\n",
       "    </tr>\n",
       "    <tr>\n",
       "      <td>9400</td>\n",
       "      <td>0.079000</td>\n",
       "    </tr>\n",
       "    <tr>\n",
       "      <td>9500</td>\n",
       "      <td>0.068600</td>\n",
       "    </tr>\n",
       "    <tr>\n",
       "      <td>9600</td>\n",
       "      <td>0.067400</td>\n",
       "    </tr>\n",
       "    <tr>\n",
       "      <td>9700</td>\n",
       "      <td>0.068100</td>\n",
       "    </tr>\n",
       "    <tr>\n",
       "      <td>9800</td>\n",
       "      <td>0.066000</td>\n",
       "    </tr>\n",
       "    <tr>\n",
       "      <td>9900</td>\n",
       "      <td>0.067900</td>\n",
       "    </tr>\n",
       "    <tr>\n",
       "      <td>10000</td>\n",
       "      <td>0.068300</td>\n",
       "    </tr>\n",
       "    <tr>\n",
       "      <td>10100</td>\n",
       "      <td>0.068000</td>\n",
       "    </tr>\n",
       "    <tr>\n",
       "      <td>10200</td>\n",
       "      <td>0.068500</td>\n",
       "    </tr>\n",
       "    <tr>\n",
       "      <td>10300</td>\n",
       "      <td>0.068900</td>\n",
       "    </tr>\n",
       "    <tr>\n",
       "      <td>10400</td>\n",
       "      <td>0.067300</td>\n",
       "    </tr>\n",
       "    <tr>\n",
       "      <td>10500</td>\n",
       "      <td>0.069800</td>\n",
       "    </tr>\n",
       "    <tr>\n",
       "      <td>10600</td>\n",
       "      <td>0.068400</td>\n",
       "    </tr>\n",
       "    <tr>\n",
       "      <td>10700</td>\n",
       "      <td>0.071700</td>\n",
       "    </tr>\n",
       "    <tr>\n",
       "      <td>10800</td>\n",
       "      <td>0.068600</td>\n",
       "    </tr>\n",
       "    <tr>\n",
       "      <td>10900</td>\n",
       "      <td>0.063900</td>\n",
       "    </tr>\n",
       "    <tr>\n",
       "      <td>11000</td>\n",
       "      <td>0.070800</td>\n",
       "    </tr>\n",
       "    <tr>\n",
       "      <td>11100</td>\n",
       "      <td>0.067100</td>\n",
       "    </tr>\n",
       "    <tr>\n",
       "      <td>11200</td>\n",
       "      <td>0.070000</td>\n",
       "    </tr>\n",
       "    <tr>\n",
       "      <td>11300</td>\n",
       "      <td>0.065900</td>\n",
       "    </tr>\n",
       "    <tr>\n",
       "      <td>11400</td>\n",
       "      <td>0.068300</td>\n",
       "    </tr>\n",
       "    <tr>\n",
       "      <td>11500</td>\n",
       "      <td>0.069200</td>\n",
       "    </tr>\n",
       "    <tr>\n",
       "      <td>11600</td>\n",
       "      <td>0.067600</td>\n",
       "    </tr>\n",
       "    <tr>\n",
       "      <td>11700</td>\n",
       "      <td>0.066500</td>\n",
       "    </tr>\n",
       "    <tr>\n",
       "      <td>11800</td>\n",
       "      <td>0.068600</td>\n",
       "    </tr>\n",
       "    <tr>\n",
       "      <td>11900</td>\n",
       "      <td>0.068800</td>\n",
       "    </tr>\n",
       "    <tr>\n",
       "      <td>12000</td>\n",
       "      <td>0.064800</td>\n",
       "    </tr>\n",
       "    <tr>\n",
       "      <td>12100</td>\n",
       "      <td>0.066700</td>\n",
       "    </tr>\n",
       "    <tr>\n",
       "      <td>12200</td>\n",
       "      <td>0.071100</td>\n",
       "    </tr>\n",
       "    <tr>\n",
       "      <td>12300</td>\n",
       "      <td>0.068900</td>\n",
       "    </tr>\n",
       "    <tr>\n",
       "      <td>12400</td>\n",
       "      <td>0.070300</td>\n",
       "    </tr>\n",
       "    <tr>\n",
       "      <td>12500</td>\n",
       "      <td>0.072700</td>\n",
       "    </tr>\n",
       "    <tr>\n",
       "      <td>12600</td>\n",
       "      <td>0.060600</td>\n",
       "    </tr>\n",
       "    <tr>\n",
       "      <td>12700</td>\n",
       "      <td>0.062000</td>\n",
       "    </tr>\n",
       "    <tr>\n",
       "      <td>12800</td>\n",
       "      <td>0.061100</td>\n",
       "    </tr>\n",
       "    <tr>\n",
       "      <td>12900</td>\n",
       "      <td>0.058300</td>\n",
       "    </tr>\n",
       "    <tr>\n",
       "      <td>13000</td>\n",
       "      <td>0.060800</td>\n",
       "    </tr>\n",
       "    <tr>\n",
       "      <td>13100</td>\n",
       "      <td>0.058900</td>\n",
       "    </tr>\n",
       "    <tr>\n",
       "      <td>13200</td>\n",
       "      <td>0.059700</td>\n",
       "    </tr>\n",
       "    <tr>\n",
       "      <td>13300</td>\n",
       "      <td>0.059300</td>\n",
       "    </tr>\n",
       "    <tr>\n",
       "      <td>13400</td>\n",
       "      <td>0.060900</td>\n",
       "    </tr>\n",
       "    <tr>\n",
       "      <td>13500</td>\n",
       "      <td>0.058700</td>\n",
       "    </tr>\n",
       "    <tr>\n",
       "      <td>13600</td>\n",
       "      <td>0.059700</td>\n",
       "    </tr>\n",
       "    <tr>\n",
       "      <td>13700</td>\n",
       "      <td>0.059600</td>\n",
       "    </tr>\n",
       "    <tr>\n",
       "      <td>13800</td>\n",
       "      <td>0.060700</td>\n",
       "    </tr>\n",
       "    <tr>\n",
       "      <td>13900</td>\n",
       "      <td>0.058500</td>\n",
       "    </tr>\n",
       "    <tr>\n",
       "      <td>14000</td>\n",
       "      <td>0.058400</td>\n",
       "    </tr>\n",
       "    <tr>\n",
       "      <td>14100</td>\n",
       "      <td>0.060900</td>\n",
       "    </tr>\n",
       "    <tr>\n",
       "      <td>14200</td>\n",
       "      <td>0.061700</td>\n",
       "    </tr>\n",
       "    <tr>\n",
       "      <td>14300</td>\n",
       "      <td>0.057900</td>\n",
       "    </tr>\n",
       "    <tr>\n",
       "      <td>14400</td>\n",
       "      <td>0.062700</td>\n",
       "    </tr>\n",
       "    <tr>\n",
       "      <td>14500</td>\n",
       "      <td>0.058100</td>\n",
       "    </tr>\n",
       "    <tr>\n",
       "      <td>14600</td>\n",
       "      <td>0.061200</td>\n",
       "    </tr>\n",
       "    <tr>\n",
       "      <td>14700</td>\n",
       "      <td>0.058000</td>\n",
       "    </tr>\n",
       "    <tr>\n",
       "      <td>14800</td>\n",
       "      <td>0.061600</td>\n",
       "    </tr>\n",
       "    <tr>\n",
       "      <td>14900</td>\n",
       "      <td>0.057600</td>\n",
       "    </tr>\n",
       "    <tr>\n",
       "      <td>15000</td>\n",
       "      <td>0.058200</td>\n",
       "    </tr>\n",
       "    <tr>\n",
       "      <td>15100</td>\n",
       "      <td>0.061200</td>\n",
       "    </tr>\n",
       "    <tr>\n",
       "      <td>15200</td>\n",
       "      <td>0.059200</td>\n",
       "    </tr>\n",
       "    <tr>\n",
       "      <td>15300</td>\n",
       "      <td>0.060900</td>\n",
       "    </tr>\n",
       "    <tr>\n",
       "      <td>15400</td>\n",
       "      <td>0.059600</td>\n",
       "    </tr>\n",
       "    <tr>\n",
       "      <td>15500</td>\n",
       "      <td>0.058000</td>\n",
       "    </tr>\n",
       "    <tr>\n",
       "      <td>15600</td>\n",
       "      <td>0.058900</td>\n",
       "    </tr>\n",
       "  </tbody>\n",
       "</table><p>"
      ],
      "text/plain": [
       "<IPython.core.display.HTML object>"
      ]
     },
     "metadata": {},
     "output_type": "display_data"
    },
    {
     "data": {
      "text/plain": [
       "TrainOutput(global_step=15625, training_loss=0.08699233345794678, metrics={'train_runtime': 5050.6578, 'train_samples_per_second': 98.997, 'train_steps_per_second': 3.094, 'total_flos': 0.0, 'train_loss': 0.08699233345794678, 'epoch': 5.0})"
      ]
     },
     "execution_count": 58,
     "metadata": {},
     "output_type": "execute_result"
    }
   ],
   "source": [
    "trainer.train()"
   ]
  },
  {
   "cell_type": "code",
   "execution_count": 59,
   "id": "1dbb53ae-19ef-47b1-b255-e0811f72c534",
   "metadata": {},
   "outputs": [
    {
     "data": {
      "text/plain": [
       "{'pearson_cosine': 0.734839425177581, 'spearman_cosine': 0.7129655421953915}"
      ]
     },
     "execution_count": 59,
     "metadata": {},
     "output_type": "execute_result"
    }
   ],
   "source": [
    "evaluator(model)"
   ]
  },
  {
   "cell_type": "markdown",
   "id": "ad5b2430-8086-4c95-9740-3d8e64b0ab01",
   "metadata": {},
   "source": [
    "## It worked well now"
   ]
  },
  {
   "cell_type": "code",
   "execution_count": 60,
   "id": "f98af0cf-38df-4566-9cfd-42d77933caf3",
   "metadata": {},
   "outputs": [],
   "source": [
    "model.save(\"finetuned_sbert_qqp_v1\")"
   ]
  },
  {
   "cell_type": "code",
   "execution_count": 70,
   "id": "6df64eb1-15ed-4695-b5ad-24d4dd3b5eee",
   "metadata": {},
   "outputs": [
    {
     "name": "stdout",
     "output_type": "stream",
     "text": [
      "0.8719028234481812\n"
     ]
    }
   ],
   "source": [
    "from sentence_transformers import SentenceTransformer, util\n",
    "\n",
    "s1 = \"How can I learn machine learning?\"\n",
    "s2 = \"What are the best ways to study machine learning\"\n",
    "sim = util.cos_sim(model.encode(s1), model.encode(s2))\n",
    "print(sim.item())"
   ]
  },
  {
   "cell_type": "code",
   "execution_count": null,
   "id": "eab87d79-77a0-4def-831b-987b8149ebe4",
   "metadata": {},
   "outputs": [],
   "source": []
  },
  {
   "cell_type": "code",
   "execution_count": null,
   "id": "c7964fe8-51f1-48ed-ab19-90dba231382f",
   "metadata": {},
   "outputs": [],
   "source": [
    "import faiss\n",
    "\n",
    "# 6. FAQ Search(for better prompting)\n",
    "faq_corpus = train_df['question2'].tolist()\n",
    "\n",
    "# encode the corpus (all question2)\n",
    "faq_embeddings = model.encode(\n",
    "    faq_corpus,\n",
    "    convert_to_numpy=True,\n",
    "    normalize_embeddings=True,\n",
    "    show_progress_bar=True\n",
    ")"
   ]
  },
  {
   "cell_type": "code",
   "execution_count": 72,
   "id": "08cefb9e-8ebf-4aea-b3cd-c90a91feed41",
   "metadata": {},
   "outputs": [],
   "source": [
    "# Building FAISS index\n",
    "dim = faq_embeddings.shape[1] # 384 for miniLM\n",
    "index = faiss.IndexFlatIP(dim) \n",
    "index.add(faq_embeddings)"
   ]
  },
  {
   "cell_type": "code",
   "execution_count": 86,
   "id": "6009d9ad-c1e8-4495-a60a-8e7fc78e94e8",
   "metadata": {},
   "outputs": [
    {
     "name": "stdout",
     "output_type": "stream",
     "text": [
      "\n",
      " Query: How can i improve my Python coding skills?\n",
      "1.How do I learn Python Programming the most effective way? (score: 0.922)\n",
      "2.How can I become a really really good Python programmer? (score: 0.907)\n",
      "3.How do I start learning python web programming from scratch to advanced? (score: 0.896)\n"
     ]
    }
   ],
   "source": [
    "# Trial\n",
    "query = \"How can i improve my Python coding skills?\"\n",
    "query_emb = model.encode([query], normalize_embeddings=True)\n",
    "\n",
    "k=4 # top results\n",
    "scores, indices = index.search(query_emb, k)\n",
    "\n",
    "# drop the first result (the query itself)\n",
    "scores, indices = scores[:, 1:], indices[:, 1:]\n",
    "\n",
    "# show results\n",
    "print(\"\\n Query:\", query)\n",
    "for i, idx in enumerate(indices[0]):\n",
    "    print(f\"{i+1}.{faq_corpus[idx]} (score: {scores[0][i]:.3f})\")"
   ]
  },
  {
   "cell_type": "code",
   "execution_count": 121,
   "id": "e9af9aac-1a9a-419a-9a7f-25d0e2c345e3",
   "metadata": {},
   "outputs": [],
   "source": [
    "import re\n",
    "import numpy as np\n",
    "import faiss\n",
    "\n",
    "d = E2_valid.shape[1]  # embedding dimension\n",
    "\n",
    "# Creating FAISS index \n",
    "faiss_index = faiss.IndexFlatIP(d)\n",
    "\n",
    "faiss_index.add(E2_valid.astype(\"float32\"))"
   ]
  },
  {
   "cell_type": "code",
   "execution_count": 122,
   "id": "f130495c-2cf6-4946-812e-9593044baa56",
   "metadata": {},
   "outputs": [],
   "source": [
    "def get_top_similarity_result(query: str, k=4):\n",
    "    # clean up query text\n",
    "    q = re.sub(r\"\\s+\", \" \", query.strip())\n",
    "\n",
    "    # encode query using same model\n",
    "    query_emb = model.encode([q], normalize_embeddings=True)\n",
    "    query_emb = np.asarray(query_emb, dtype=\"float32\")  # FAISS expects float32\n",
    "\n",
    "    # search top-k similar results\n",
    "    scores, indices = faiss_index.search(query_emb, k)\n",
    "\n",
    "    scores, indices = scores[:, 1:], indices[:, 1:]\n",
    "\n",
    "    # show results\n",
    "    print(\"\\nQuery:\", q)\n",
    "    for i, idx in enumerate(indices[0]):\n",
    "        print(f\"{i+1}. {faq_corpus[idx]} (score: {scores[0][i]:.3f})\")"
   ]
  },
  {
   "cell_type": "code",
   "execution_count": 123,
   "id": "a0c8c7d6-9ea5-4dd6-84b4-10f6733f87b7",
   "metadata": {},
   "outputs": [
    {
     "name": "stdout",
     "output_type": "stream",
     "text": [
      "\n",
      "Query: How can i improve my Python coding skills?\n",
      "1. Is there anything like a white hole and its theory? (score: 0.471)\n",
      "2. How do you determine the formula for tangential acceleration? (score: 0.471)\n",
      "3. What is the best platform/media/source to learn digital marketing? (score: 0.463)\n"
     ]
    }
   ],
   "source": [
    "query = \"How can i improve my Python coding skills?\"\n",
    "get_top_similarity_result(query)"
   ]
  },
  {
   "cell_type": "code",
   "execution_count": null,
   "id": "aff6ca7f-3411-43fb-a9e8-3a8589fa3004",
   "metadata": {},
   "outputs": [],
   "source": []
  },
  {
   "cell_type": "code",
   "execution_count": null,
   "id": "dc559368-9c8e-4dde-ab42-56c767bb18c8",
   "metadata": {},
   "outputs": [],
   "source": []
  },
  {
   "cell_type": "markdown",
   "id": "6f106f0e-b9e6-4b0e-a360-f3e8d31a4b23",
   "metadata": {},
   "source": [
    "## making a UMAP plot here"
   ]
  },
  {
   "cell_type": "code",
   "execution_count": 88,
   "id": "5ff3978a-8402-49bb-8ba5-5624d1accc22",
   "metadata": {},
   "outputs": [
    {
     "name": "stderr",
     "output_type": "stream",
     "text": [
      "C:\\Users\\Deepam Shah\\AppData\\Local\\Programs\\Python\\Python312\\Lib\\site-packages\\umap\\umap_.py:1952: UserWarning: n_jobs value 1 overridden to 1 by setting random_state. Use no seed for parallelism.\n",
      "  warn(\n"
     ]
    }
   ],
   "source": [
    "# 7. UMAP plot on validation embeddings\n",
    "\n",
    "pair_embed = 0.5* (E1_valid + E2_valid)\n",
    "labels = y_val.astype(int)\n",
    "\n",
    "from umap import UMAP\n",
    "\n",
    "# We reduce the input diensions from 384 to 5 \n",
    "umap_model = UMAP(\n",
    "    n_components=5, min_dist=0.0, metric=\"cosine\", random_state=42\n",
    ")\n",
    "reduced_embeddings = umap_model.fit_transform(pair_embed)"
   ]
  },
  {
   "cell_type": "code",
   "execution_count": 90,
   "id": "bc73e611-eb54-443e-9043-40086845478e",
   "metadata": {},
   "outputs": [
    {
     "name": "stderr",
     "output_type": "stream",
     "text": [
      "C:\\Users\\Deepam Shah\\AppData\\Local\\Programs\\Python\\Python312\\Lib\\site-packages\\sklearn\\utils\\deprecation.py:151: FutureWarning: 'force_all_finite' was renamed to 'ensure_all_finite' in 1.6 and will be removed in 1.8.\n",
      "  warnings.warn(\n",
      "C:\\Users\\Deepam Shah\\AppData\\Local\\Programs\\Python\\Python312\\Lib\\site-packages\\sklearn\\utils\\deprecation.py:151: FutureWarning: 'force_all_finite' was renamed to 'ensure_all_finite' in 1.6 and will be removed in 1.8.\n",
      "  warnings.warn(\n"
     ]
    },
    {
     "data": {
      "text/plain": [
       "154"
      ]
     },
     "execution_count": 90,
     "metadata": {},
     "output_type": "execute_result"
    }
   ],
   "source": [
    "from hdbscan import HDBSCAN\n",
    "\n",
    "# We fit the model and extract the clusters\n",
    "hdbscan_model = HDBSCAN(\n",
    "    min_cluster_size=50, metric='euclidean', cluster_selection_method=\"eom\"\n",
    ").fit(reduced_embeddings)\n",
    "\n",
    "clusters = hdbscan_model.labels_\n",
    "\n",
    "# how many cluster did we generate?\n",
    "len(set(clusters))"
   ]
  },
  {
   "cell_type": "code",
   "execution_count": 97,
   "id": "d357b62f-d1e7-4721-bf86-d19bf462b89a",
   "metadata": {},
   "outputs": [
    {
     "name": "stdout",
     "output_type": "stream",
     "text": [
      "question1    What is your new year resolution, short term and long term goal for 2017?\n",
      "question2                            What will be your New Year's resolution for 2017?\n",
      "label                                                                                1\n",
      "Name: 93, dtype: object \n",
      "\n",
      "question1    What would be your New Year resolutions for 2017?\n",
      "question2        What are your New Years resolutions for 2017?\n",
      "label                                                        1\n",
      "Name: 521, dtype: object \n",
      "\n",
      "question1    What is your new year resolution for 2017 or goal for 2017?\n",
      "question2                       What are your new year resolutions’2017?\n",
      "label                                                                  1\n",
      "Name: 569, dtype: object \n",
      "\n"
     ]
    }
   ],
   "source": [
    "import numpy as np\n",
    "import pandas as pd\n",
    "\n",
    "# disable text truncation\n",
    "pd.set_option('display.max_colwidth', None)\n",
    "\n",
    "# print first three documents in cluster 0\n",
    "cluster = 0\n",
    "for index in np.where(clusters == cluster)[0][:3]:\n",
    "    print(valid_df.iloc[index], \"\\n\")"
   ]
  },
  {
   "cell_type": "code",
   "execution_count": 98,
   "id": "2548bf66-3780-45b6-9ee5-9441aa43c386",
   "metadata": {},
   "outputs": [
    {
     "name": "stderr",
     "output_type": "stream",
     "text": [
      "C:\\Users\\Deepam Shah\\AppData\\Local\\Programs\\Python\\Python312\\Lib\\site-packages\\umap\\umap_.py:1952: UserWarning: n_jobs value 1 overridden to 1 by setting random_state. Use no seed for parallelism.\n",
      "  warn(\n"
     ]
    }
   ],
   "source": [
    "# Visualize the plot\n",
    "import pandas as pd\n",
    "\n",
    "# We reduce the input diensions from 384 to 2\n",
    "reduced_embeddings = UMAP(\n",
    "    n_components=2, min_dist=0.0, metric=\"cosine\", random_state=42\n",
    ").fit_transform(pair_embed)"
   ]
  },
  {
   "cell_type": "code",
   "execution_count": 100,
   "id": "54f79455-6a57-40aa-8956-e71fa50183ac",
   "metadata": {},
   "outputs": [],
   "source": [
    "# Create dataFrame\n",
    "df = pd.DataFrame(reduced_embeddings, columns=['x', 'y'])\n",
    "df['title'] = valid_df['question1']\n",
    "df['cluster'] = [str(c) for c in clusters]\n",
    "\n",
    "# Select outliers and non-outliers (clusters)\n",
    "to_plot = df.loc[df.cluster != '-1', :]\n",
    "outliers = df.loc[df.cluster == \"-1\", :]"
   ]
  },
  {
   "cell_type": "code",
   "execution_count": 102,
   "id": "208a0e92-858e-40f1-985e-106d2862985e",
   "metadata": {},
   "outputs": [],
   "source": [
    "# from your earlier variables\n",
    "clusters_df = to_plot.copy()   # all points with cluster != -1\n",
    "outliers_df = outliers.copy()  # all points with cluster == -1"
   ]
  },
  {
   "cell_type": "code",
   "execution_count": 103,
   "id": "eceead3f-eb2e-44cc-b262-9c34ca57dbea",
   "metadata": {},
   "outputs": [
    {
     "data": {
      "text/plain": [
       "(np.float64(-12.664507102966308),\n",
       " np.float64(13.170059394836425),\n",
       " np.float64(-12.071831321716308),\n",
       " np.float64(11.186108207702636))"
      ]
     },
     "execution_count": 103,
     "metadata": {},
     "output_type": "execute_result"
    },
    {
     "data": {
      "image/png": "[encoded data removed]",
      "text/plain": [
       "<Figure size 640x480 with 1 Axes>"
      ]
     },
     "metadata": {},
     "output_type": "display_data"
    }
   ],
   "source": [
    "import matplotlib.pyplot as plt\n",
    "\n",
    "# Plot outliers and non-outliers respectively\n",
    "plt.scatter(outliers_df.x, outliers_df.y, alpha=0.05, s=2, c=\"grey\")\n",
    "plt.scatter(\n",
    "    clusters_df.x, clusters_df.y, c=clusters_df.cluster.astype(int),\n",
    "    alpha=0.6, s=2, cmap=\"tab20b\"\n",
    ")\n",
    "plt.axis(\"off\")"
   ]
  },
  {
   "cell_type": "markdown",
   "id": "97352048-e514-428d-9277-4e46ebbf8669",
   "metadata": {},
   "source": [
    "- This is visually appealing and does not allow us to see what is happening inside the cluster, we could also do topic modeling use BERTopic model"
   ]
  },
  {
   "cell_type": "code",
   "execution_count": 105,
   "id": "4ea7afba-ad3f-45ed-82dc-1a095cf6e4e8",
   "metadata": {},
   "outputs": [
    {
     "name": "stderr",
     "output_type": "stream",
     "text": [
      "2025-10-30 14:35:35,499 - BERTopic - Dimensionality - Fitting the dimensionality reduction algorithm\n",
      "2025-10-30 14:37:01,244 - BERTopic - Dimensionality - Completed ✓\n",
      "2025-10-30 14:37:01,250 - BERTopic - Cluster - Start clustering the reduced embeddings\n",
      "2025-10-30 14:37:05,908 - BERTopic - Cluster - Completed ✓\n",
      "2025-10-30 14:37:05,956 - BERTopic - Representation - Fine-tuning topics using representation models.\n",
      "2025-10-30 14:37:06,805 - BERTopic - Representation - Completed ✓\n"
     ]
    }
   ],
   "source": [
    "from bertopic import BERTopic\n",
    "\n",
    "# Train our model with our previously defined models\n",
    "topic_model = BERTopic(\n",
    "    embedding_model=model,\n",
    "    umap_model=umap_model,\n",
    "    hdbscan_model=hdbscan_model,\n",
    "    verbose=True\n",
    ").fit(valid_df['question1'], E1_valid)"
   ]
  },
  {
   "cell_type": "code",
   "execution_count": 106,
   "id": "8baa63e7-3a42-45fd-a64a-314852002fc6",
   "metadata": {},
   "outputs": [
    {
     "data": {
      "text/html": [
       "<div>\n",
       "<style scoped>\n",
       "    .dataframe tbody tr th:only-of-type {\n",
       "        vertical-align: middle;\n",
       "    }\n",
       "\n",
       "    .dataframe tbody tr th {\n",
       "        vertical-align: top;\n",
       "    }\n",
       "\n",
       "    .dataframe thead th {\n",
       "        text-align: right;\n",
       "    }\n",
       "</style>\n",
       "<table border=\"1\" class=\"dataframe\">\n",
       "  <thead>\n",
       "    <tr style=\"text-align: right;\">\n",
       "      <th></th>\n",
       "      <th>Topic</th>\n",
       "      <th>Count</th>\n",
       "      <th>Name</th>\n",
       "      <th>Representation</th>\n",
       "      <th>Representative_Docs</th>\n",
       "    </tr>\n",
       "  </thead>\n",
       "  <tbody>\n",
       "    <tr>\n",
       "      <th>0</th>\n",
       "      <td>-1</td>\n",
       "      <td>18569</td>\n",
       "      <td>-1_the_what_is_of</td>\n",
       "      <td>[the, what, is, of, in, and, are, to, how, do]</td>\n",
       "      <td>[Where do I have to learn digital marketing course for for free?, How do you get a job at Google?, Why do we need laws in society? What would life be like without them?]</td>\n",
       "    </tr>\n",
       "    <tr>\n",
       "      <th>1</th>\n",
       "      <td>0</td>\n",
       "      <td>2071</td>\n",
       "      <td>0_engineering_exam_for_prepare</td>\n",
       "      <td>[engineering, exam, for, prepare, university, mba, college, mechanical, in, science]</td>\n",
       "      <td>[What are the best engineering colleges in India?, Which are the best books to prepare for IAS exam?, What rank and marks are required on the GATE Exam to get a job in PSU for mechanical engineering?]</td>\n",
       "    </tr>\n",
       "    <tr>\n",
       "      <th>2</th>\n",
       "      <td>1</td>\n",
       "      <td>1792</td>\n",
       "      <td>1_movie_movies_who_bollywood</td>\n",
       "      <td>[movie, movies, who, bollywood, modi, did, was, tv, watch, his]</td>\n",
       "      <td>[What is your favorite Bollywood movie in 2016?, Which are best Bollywood movies?, What do you think about when you watch a movie?]</td>\n",
       "    </tr>\n",
       "    <tr>\n",
       "      <th>3</th>\n",
       "      <td>2</td>\n",
       "      <td>853</td>\n",
       "      <td>2_trump_donald_clinton_hillary</td>\n",
       "      <td>[trump, donald, clinton, hillary, president, vote, election, presidential, obama, will]</td>\n",
       "      <td>[Who is better Donald Trump or Hillary Clinton and why?, Who will win Hillary Clinton Or Donald Trump?, Who would be a better president: Hillary Clinton or Donald Trump?]</td>\n",
       "    </tr>\n",
       "    <tr>\n",
       "      <th>4</th>\n",
       "      <td>3</td>\n",
       "      <td>664</td>\n",
       "      <td>3_quora_questions_question_ask</td>\n",
       "      <td>[quora, questions, question, ask, answer, answers, on, google, why, people]</td>\n",
       "      <td>[Why can't I ask any questions on Quora?, How so I ask questions on Quora?, How so I ask questions on Quora?]</td>\n",
       "    </tr>\n",
       "    <tr>\n",
       "      <th>...</th>\n",
       "      <td>...</td>\n",
       "      <td>...</td>\n",
       "      <td>...</td>\n",
       "      <td>...</td>\n",
       "      <td>...</td>\n",
       "    </tr>\n",
       "    <tr>\n",
       "      <th>126</th>\n",
       "      <td>125</td>\n",
       "      <td>53</td>\n",
       "      <td>125_pollution_biotic_abiotic_forest</td>\n",
       "      <td>[pollution, biotic, abiotic, forest, air, factors, trees, biodiversity, forests, environmental]</td>\n",
       "      <td>[What are the main causes of air water and land pollution?, What are some examples of water pollution?, What is the meaning of air pollution?]</td>\n",
       "    </tr>\n",
       "    <tr>\n",
       "      <th>127</th>\n",
       "      <td>126</td>\n",
       "      <td>53</td>\n",
       "      <td>126_protein_whey_supplement_vitamin</td>\n",
       "      <td>[protein, whey, supplement, vitamin, banana, diarrhea, bananas, workout, eat, reviews]</td>\n",
       "      <td>[What if I take whey protein and don't workout?, Which is the best whey protein in the market?, What is whey protein?]</td>\n",
       "    </tr>\n",
       "    <tr>\n",
       "      <th>128</th>\n",
       "      <td>127</td>\n",
       "      <td>51</td>\n",
       "      <td>127_cheating_partner_wife_cheated</td>\n",
       "      <td>[cheating, partner, wife, cheated, husband, know, my, me, affair, cheater]</td>\n",
       "      <td>[How will you know if your partner was or still cheating on you?, How do you know when your partner is cheating?, How do you know when your partner is cheating?]</td>\n",
       "    </tr>\n",
       "    <tr>\n",
       "      <th>129</th>\n",
       "      <td>128</td>\n",
       "      <td>50</td>\n",
       "      <td>128_countries_africa_country_poorest</td>\n",
       "      <td>[countries, africa, country, poorest, france, mexico, guinea, economic, america, states]</td>\n",
       "      <td>[How do France's economic activities compare and contrast to those of Mexico?, What is the poorest country in Asia, and how does its educational system compare to the poorest country in Africa?, What is the poorest country in Asia, and how does its health system compare to the poorest country in Africa?]</td>\n",
       "    </tr>\n",
       "    <tr>\n",
       "      <th>130</th>\n",
       "      <td>129</td>\n",
       "      <td>50</td>\n",
       "      <td>129_pressure_energy_heat_magnetic</td>\n",
       "      <td>[pressure, energy, heat, magnetic, light, force, spin, electromagnetic, touch, hydraulic]</td>\n",
       "      <td>[\"What is \"\"negative pressure\"\"?\", \"What is \"\"negative pressure\"\"?\", Is light energy real in a way in which heat energy is not, since heat energy is just energy in transit ?]</td>\n",
       "    </tr>\n",
       "  </tbody>\n",
       "</table>\n",
       "<p>131 rows × 5 columns</p>\n",
       "</div>"
      ],
      "text/plain": [
       "     Topic  Count                                  Name  \\\n",
       "0       -1  18569                     -1_the_what_is_of   \n",
       "1        0   2071        0_engineering_exam_for_prepare   \n",
       "2        1   1792          1_movie_movies_who_bollywood   \n",
       "3        2    853        2_trump_donald_clinton_hillary   \n",
       "4        3    664        3_quora_questions_question_ask   \n",
       "..     ...    ...                                   ...   \n",
       "126    125     53   125_pollution_biotic_abiotic_forest   \n",
       "127    126     53   126_protein_whey_supplement_vitamin   \n",
       "128    127     51     127_cheating_partner_wife_cheated   \n",
       "129    128     50  128_countries_africa_country_poorest   \n",
       "130    129     50     129_pressure_energy_heat_magnetic   \n",
       "\n",
       "                                                                                      Representation  \\\n",
       "0                                                     [the, what, is, of, in, and, are, to, how, do]   \n",
       "1               [engineering, exam, for, prepare, university, mba, college, mechanical, in, science]   \n",
       "2                                    [movie, movies, who, bollywood, modi, did, was, tv, watch, his]   \n",
       "3            [trump, donald, clinton, hillary, president, vote, election, presidential, obama, will]   \n",
       "4                        [quora, questions, question, ask, answer, answers, on, google, why, people]   \n",
       "..                                                                                               ...   \n",
       "126  [pollution, biotic, abiotic, forest, air, factors, trees, biodiversity, forests, environmental]   \n",
       "127           [protein, whey, supplement, vitamin, banana, diarrhea, bananas, workout, eat, reviews]   \n",
       "128                       [cheating, partner, wife, cheated, husband, know, my, me, affair, cheater]   \n",
       "129         [countries, africa, country, poorest, france, mexico, guinea, economic, america, states]   \n",
       "130        [pressure, energy, heat, magnetic, light, force, spin, electromagnetic, touch, hydraulic]   \n",
       "\n",
       "                                                                                                                                                                                                                                                                                                   Representative_Docs  \n",
       "0                                                                                                                                            [Where do I have to learn digital marketing course for for free?, How do you get a job at Google?, Why do we need laws in society? What would life be like without them?]  \n",
       "1                                                                                                             [What are the best engineering colleges in India?, Which are the best books to prepare for IAS exam?, What rank and marks are required on the GATE Exam to get a job in PSU for mechanical engineering?]  \n",
       "2                                                                                                                                                                                  [What is your favorite Bollywood movie in 2016?, Which are best Bollywood movies?, What do you think about when you watch a movie?]  \n",
       "3                                                                                                                                           [Who is better Donald Trump or Hillary Clinton and why?, Who will win Hillary Clinton Or Donald Trump?, Who would be a better president: Hillary Clinton or Donald Trump?]  \n",
       "4                                                                                                                                                                                                        [Why can't I ask any questions on Quora?, How so I ask questions on Quora?, How so I ask questions on Quora?]  \n",
       "..                                                                                                                                                                                                                                                                                                                 ...  \n",
       "126                                                                                                                                                                     [What are the main causes of air water and land pollution?, What are some examples of water pollution?, What is the meaning of air pollution?]  \n",
       "127                                                                                                                                                                                             [What if I take whey protein and don't workout?, Which is the best whey protein in the market?, What is whey protein?]  \n",
       "128                                                                                                                                                  [How will you know if your partner was or still cheating on you?, How do you know when your partner is cheating?, How do you know when your partner is cheating?]  \n",
       "129  [How do France's economic activities compare and contrast to those of Mexico?, What is the poorest country in Asia, and how does its educational system compare to the poorest country in Africa?, What is the poorest country in Asia, and how does its health system compare to the poorest country in Africa?]  \n",
       "130                                                                                                                                     [\"What is \"\"negative pressure\"\"?\", \"What is \"\"negative pressure\"\"?\", Is light energy real in a way in which heat energy is not, since heat energy is just energy in transit ?]  \n",
       "\n",
       "[131 rows x 5 columns]"
      ]
     },
     "execution_count": 106,
     "metadata": {},
     "output_type": "execute_result"
    }
   ],
   "source": [
    "topic_model.get_topic_info()"
   ]
  },
  {
   "cell_type": "code",
   "execution_count": 108,
   "id": "0e09674f-29d1-422d-af1f-33c77b9df00d",
   "metadata": {},
   "outputs": [
    {
     "data": {
      "text/plain": [
       "[('engineering', np.float64(0.02628727096386999)),\n",
       " ('exam', np.float64(0.019584456631392997)),\n",
       " ('for', np.float64(0.01634507926157909)),\n",
       " ('prepare', np.float64(0.016154940315202943)),\n",
       " ('university', np.float64(0.015302367635268826)),\n",
       " ('mba', np.float64(0.013937116388687963)),\n",
       " ('college', np.float64(0.013389139897843893)),\n",
       " ('mechanical', np.float64(0.012992286246469267)),\n",
       " ('in', np.float64(0.012099517438198329)),\n",
       " ('science', np.float64(0.011916775692937457))]"
      ]
     },
     "execution_count": 108,
     "metadata": {},
     "output_type": "execute_result"
    }
   ],
   "source": [
    "topic_model.get_topic(0)"
   ]
  },
  {
   "cell_type": "code",
   "execution_count": null,
   "id": "cf0a6392-68ee-43a2-a5a9-9b91a9ef9781",
   "metadata": {},
   "outputs": [],
   "source": []
  }
 ],
 "metadata": {
  "kernelspec": {
   "display_name": "Python 3 (ipykernel)",
   "language": "python",
   "name": "python3"
  },
  "language_info": {
   "codemirror_mode": {
    "name": "ipython",
    "version": 3
   },
   "file_extension": ".py",
   "mimetype": "text/x-python",
   "name": "python",
   "nbconvert_exporter": "python",
   "pygments_lexer": "ipython3",
   "version": "3.12.8"
  }
 },
 "nbformat": 4,
 "nbformat_minor": 5
}
